{
 "cells": [
  {
   "cell_type": "markdown",
   "id": "202380da-7bca-4dd7-8937-3e59ecf6cc3b",
   "metadata": {},
   "source": [
    "# **村上琢太**(タクタ)さんのストーリーを使って、簡単なN4レベルの日本語単語で例文を作る機能を実現しましょう。\n",
    "\n",
    "![Alt Text](/files/Takuta.jpg)\n",
    "\n",
    "From Takuta :\n",
    "息子（台湾の大学でAIを中心にCS勉強中）と電話で話したら、勉強方法が22世紀だった。\n",
    "\n",
    "先生が過去問10年分くれたから、それをPythonでプログラム組んで何年分勉強したらいいかを解析して、3年分をやったらほぼ95％確率でその点数が取れると出たので念のため4年分やったら予定どおりの点数が取れとか。\n",
    "\n",
    "第3外国語のインドネシア語を勉強するのに、覚えなきゃいけない単語のCSVファイルを作って、その単語をすべて含むなるべく短い文章を生成AIに作らせて、その文章を覚えることで単語を覚えるとか。\n",
    "\n",
    "勉強方法が（いい意味で）ハッカー。"
   ]
  },
  {
   "cell_type": "markdown",
   "id": "3c22028c-f5ec-4911-b695-0a427be827d5",
   "metadata": {},
   "source": [
    "## 1. LLMを使用してN4日本語の単語を生成し、漢字（ひらがな）の形式で生成する"
   ]
  },
  {
   "cell_type": "code",
   "execution_count": 3,
   "id": "6c6032fe-6efc-4e95-95a6-d4a5dfa86fac",
   "metadata": {},
   "outputs": [],
   "source": [
    "word_list = [\n",
    "    \"家族(かぞく)\", \"病院(びょういん)\", \"時間(じかん)\", \"旅行(りょこう)\", \"友達(ともだち)\",\n",
    "    \"公園(こうえん)\", \"会社(かいしゃ)\", \"問題(もんだい)\", \"宿題(しゅくだい)\", \"勉強(べんきょう)\",\n",
    "    \"空港(くうこう)\", \"図書館(としょかん)\", \"教室(きょうしつ)\", \"新聞(しんぶん)\", \"写真(しゃしん)\",\n",
    "    \"先生(せんせい)\", \"手紙(てがみ)\", \"天気(てんき)\", \"料理(りょうり)\", \"食事(しょくじ)\",\n",
    "    \"音楽(おんがく)\", \"映画(えいが)\", \"本屋(ほんや)\", \"道(みち)\", \"駅(えき)\", \"自転車(じてんしゃ)\",\n",
    "    \"道具(どうぐ)\", \"猫(ねこ)\", \"犬(いぬ)\", \"海(うみ)\", \"山(やま)\", \"花(はな)\", \"学校(がっこう)\",\n",
    "    \"授業(じゅぎょう)\", \"買い物(かいもの)\", \"結婚(けっこん)\", \"運転(うんてん)\", \"車(くるま)\",\n",
    "    \"事故(じこ)\", \"電話(でんわ)\", \"部屋(へや)\", \"玄関(げんかん)\", \"台所(だいどころ)\", \"階段(かいだん)\",\n",
    "    \"生活(せいかつ)\", \"食べ物(たべもの)\", \"飲み物(のみもの)\", \"野菜(やさい)\", \"果物(くだもの)\",\n",
    "    \"魚(さかな)\", \"肉(にく)\", \"鳥(とり)\", \"仕事(しごと)\", \"会話(かいわ)\", \"質問(しつもん)\",\n",
    "    \"答え(こたえ)\", \"試験(しけん)\", \"趣味(しゅみ)\", \"時間割(じかんわり)\", \"音(おと)\", \"遊び(あそび)\",\n",
    "    \"運動(うんどう)\", \"疲れ(つかれ)\", \"楽しい(たのしい)\", \"静か(しずか)\", \"高い(たかい)\", \"安い(やすい)\",\n",
    "    \"便利(べんり)\", \"大変(たいへん)\", \"上手(じょうず)\", \"下手(へた)\", \"好き(すき)\", \"嫌い(きらい)\",\n",
    "    \"忙しい(いそがしい)\", \"寒い(さむい)\", \"暑い(あつい)\", \"近い(ちかい)\", \"遠い(とおい)\",\n",
    "    \"青い(あおい)\", \"赤い(あかい)\", \"広い(ひろい)\", \"狭い(せまい)\", \"重い(おもい)\", \"軽い(かるい)\",\n",
    "    \"新しい(あたらしい)\", \"古い(ふるい)\", \"強い(つよい)\", \"弱い(よわい)\", \"安全(あんぜん)\",\n",
    "    \"危険(きけん)\", \"健康(けんこう)\", \"練習(れんしゅう)\", \"空(そら)\", \"晴れ(はれ)\", \"曇り(くもり)\",\n",
    "    \"雨(あめ)\", \"雪(ゆき)\", \"風(かぜ)\", \"景色(けしき)\", \"自然(しぜん)\", \"木(き)\", \"森(もり)\", \"川(かわ)\"\n",
    "]\n"
   ]
  },
  {
   "cell_type": "markdown",
   "id": "7acdb421-39e7-4545-800c-e5afa6808e7c",
   "metadata": {},
   "source": [
    "## 2. プロジェクト発想：造句には無料のLLMが必要なため、Geminiを採用。"
   ]
  },
  {
   "cell_type": "code",
   "execution_count": 5,
   "id": "b2ba479e-fb9e-4ea9-8617-6395a6d2809c",
   "metadata": {},
   "outputs": [
    {
     "name": "stdout",
     "output_type": "stream",
     "text": [
      "Collecting google-generativeai\n",
      "  Downloading google_generativeai-0.8.3-py3-none-any.whl.metadata (3.9 kB)\n",
      "Collecting google-ai-generativelanguage==0.6.10 (from google-generativeai)\n",
      "  Downloading google_ai_generativelanguage-0.6.10-py3-none-any.whl.metadata (5.6 kB)\n",
      "Collecting google-api-core (from google-generativeai)\n",
      "  Downloading google_api_core-2.23.0-py3-none-any.whl.metadata (3.0 kB)\n",
      "Collecting google-api-python-client (from google-generativeai)\n",
      "  Downloading google_api_python_client-2.151.0-py2.py3-none-any.whl.metadata (6.7 kB)\n",
      "Collecting google-auth>=2.15.0 (from google-generativeai)\n",
      "  Downloading google_auth-2.36.0-py2.py3-none-any.whl.metadata (4.7 kB)\n",
      "Collecting protobuf (from google-generativeai)\n",
      "  Downloading protobuf-5.28.3-cp39-cp39-win_amd64.whl.metadata (592 bytes)\n",
      "Collecting pydantic (from google-generativeai)\n",
      "  Downloading pydantic-2.9.2-py3-none-any.whl.metadata (149 kB)\n",
      "Collecting tqdm (from google-generativeai)\n",
      "  Downloading tqdm-4.67.0-py3-none-any.whl.metadata (57 kB)\n",
      "Requirement already satisfied: typing-extensions in c:\\users\\user\\appdata\\local\\programs\\python\\python39\\lib\\site-packages (from google-generativeai) (4.12.2)\n",
      "Collecting proto-plus<2.0.0dev,>=1.22.3 (from google-ai-generativelanguage==0.6.10->google-generativeai)\n",
      "  Downloading proto_plus-1.25.0-py3-none-any.whl.metadata (2.2 kB)\n",
      "Collecting googleapis-common-protos<2.0.dev0,>=1.56.2 (from google-api-core->google-generativeai)\n",
      "  Downloading googleapis_common_protos-1.65.0-py2.py3-none-any.whl.metadata (1.5 kB)\n",
      "Requirement already satisfied: requests<3.0.0.dev0,>=2.18.0 in c:\\users\\user\\appdata\\local\\programs\\python\\python39\\lib\\site-packages (from google-api-core->google-generativeai) (2.32.3)\n",
      "Collecting cachetools<6.0,>=2.0.0 (from google-auth>=2.15.0->google-generativeai)\n",
      "  Downloading cachetools-5.5.0-py3-none-any.whl.metadata (5.3 kB)\n",
      "Collecting pyasn1-modules>=0.2.1 (from google-auth>=2.15.0->google-generativeai)\n",
      "  Downloading pyasn1_modules-0.4.1-py3-none-any.whl.metadata (3.5 kB)\n",
      "Collecting rsa<5,>=3.1.4 (from google-auth>=2.15.0->google-generativeai)\n",
      "  Downloading rsa-4.9-py3-none-any.whl.metadata (4.2 kB)\n",
      "Collecting httplib2<1.dev0,>=0.19.0 (from google-api-python-client->google-generativeai)\n",
      "  Downloading httplib2-0.22.0-py3-none-any.whl.metadata (2.6 kB)\n",
      "Collecting google-auth-httplib2<1.0.0,>=0.2.0 (from google-api-python-client->google-generativeai)\n",
      "  Downloading google_auth_httplib2-0.2.0-py2.py3-none-any.whl.metadata (2.2 kB)\n",
      "Collecting uritemplate<5,>=3.0.1 (from google-api-python-client->google-generativeai)\n",
      "  Downloading uritemplate-4.1.1-py2.py3-none-any.whl.metadata (2.9 kB)\n",
      "Collecting annotated-types>=0.6.0 (from pydantic->google-generativeai)\n",
      "  Downloading annotated_types-0.7.0-py3-none-any.whl.metadata (15 kB)\n",
      "Collecting pydantic-core==2.23.4 (from pydantic->google-generativeai)\n",
      "  Downloading pydantic_core-2.23.4-cp39-none-win_amd64.whl.metadata (6.7 kB)\n",
      "Requirement already satisfied: colorama in c:\\users\\user\\appdata\\local\\programs\\python\\python39\\lib\\site-packages (from tqdm->google-generativeai) (0.4.6)\n",
      "Collecting grpcio<2.0dev,>=1.33.2 (from google-api-core[grpc]!=2.0.*,!=2.1.*,!=2.10.*,!=2.2.*,!=2.3.*,!=2.4.*,!=2.5.*,!=2.6.*,!=2.7.*,!=2.8.*,!=2.9.*,<3.0.0dev,>=1.34.1->google-ai-generativelanguage==0.6.10->google-generativeai)\n",
      "  Downloading grpcio-1.67.1-cp39-cp39-win_amd64.whl.metadata (4.0 kB)\n",
      "Collecting grpcio-status<2.0.dev0,>=1.33.2 (from google-api-core[grpc]!=2.0.*,!=2.1.*,!=2.10.*,!=2.2.*,!=2.3.*,!=2.4.*,!=2.5.*,!=2.6.*,!=2.7.*,!=2.8.*,!=2.9.*,<3.0.0dev,>=1.34.1->google-ai-generativelanguage==0.6.10->google-generativeai)\n",
      "  Downloading grpcio_status-1.67.1-py3-none-any.whl.metadata (1.1 kB)\n",
      "Collecting pyparsing!=3.0.0,!=3.0.1,!=3.0.2,!=3.0.3,<4,>=2.4.2 (from httplib2<1.dev0,>=0.19.0->google-api-python-client->google-generativeai)\n",
      "  Downloading pyparsing-3.2.0-py3-none-any.whl.metadata (5.0 kB)\n",
      "Collecting pyasn1<0.7.0,>=0.4.6 (from pyasn1-modules>=0.2.1->google-auth>=2.15.0->google-generativeai)\n",
      "  Downloading pyasn1-0.6.1-py3-none-any.whl.metadata (8.4 kB)\n",
      "Requirement already satisfied: charset-normalizer<4,>=2 in c:\\users\\user\\appdata\\local\\programs\\python\\python39\\lib\\site-packages (from requests<3.0.0.dev0,>=2.18.0->google-api-core->google-generativeai) (3.4.0)\n",
      "Requirement already satisfied: idna<4,>=2.5 in c:\\users\\user\\appdata\\local\\programs\\python\\python39\\lib\\site-packages (from requests<3.0.0.dev0,>=2.18.0->google-api-core->google-generativeai) (3.10)\n",
      "Requirement already satisfied: urllib3<3,>=1.21.1 in c:\\users\\user\\appdata\\local\\programs\\python\\python39\\lib\\site-packages (from requests<3.0.0.dev0,>=2.18.0->google-api-core->google-generativeai) (2.2.3)\n",
      "Requirement already satisfied: certifi>=2017.4.17 in c:\\users\\user\\appdata\\local\\programs\\python\\python39\\lib\\site-packages (from requests<3.0.0.dev0,>=2.18.0->google-api-core->google-generativeai) (2024.8.30)\n",
      "Downloading google_generativeai-0.8.3-py3-none-any.whl (160 kB)\n",
      "Downloading google_ai_generativelanguage-0.6.10-py3-none-any.whl (760 kB)\n",
      "   ---------------------------------------- 0.0/760.0 kB ? eta -:--:--\n",
      "   ---------------------------------------- 760.0/760.0 kB 6.4 MB/s eta 0:00:00\n",
      "Downloading google_api_core-2.23.0-py3-none-any.whl (156 kB)\n",
      "Downloading google_auth-2.36.0-py2.py3-none-any.whl (209 kB)\n",
      "Downloading protobuf-5.28.3-cp39-cp39-win_amd64.whl (431 kB)\n",
      "Downloading google_api_python_client-2.151.0-py2.py3-none-any.whl (12.5 MB)\n",
      "   ---------------------------------------- 0.0/12.5 MB ? eta -:--:--\n",
      "   -- ------------------------------------- 0.8/12.5 MB 3.4 MB/s eta 0:00:04\n",
      "   ------- -------------------------------- 2.4/12.5 MB 5.2 MB/s eta 0:00:02\n",
      "   ----------- ---------------------------- 3.7/12.5 MB 6.1 MB/s eta 0:00:02\n",
      "   --------------- ------------------------ 5.0/12.5 MB 5.8 MB/s eta 0:00:02\n",
      "   ------------------- -------------------- 6.0/12.5 MB 5.7 MB/s eta 0:00:02\n",
      "   ---------------------- ----------------- 7.1/12.5 MB 5.6 MB/s eta 0:00:01\n",
      "   ------------------------- -------------- 8.1/12.5 MB 5.5 MB/s eta 0:00:01\n",
      "   ------------------------------ --------- 9.4/12.5 MB 5.5 MB/s eta 0:00:01\n",
      "   --------------------------------- ------ 10.5/12.5 MB 5.5 MB/s eta 0:00:01\n",
      "   ------------------------------------ --- 11.5/12.5 MB 5.5 MB/s eta 0:00:01\n",
      "   ---------------------------------------  12.3/12.5 MB 5.5 MB/s eta 0:00:01\n",
      "   ---------------------------------------- 12.5/12.5 MB 5.3 MB/s eta 0:00:00\n",
      "Downloading pydantic-2.9.2-py3-none-any.whl (434 kB)\n",
      "Downloading pydantic_core-2.23.4-cp39-none-win_amd64.whl (1.9 MB)\n",
      "   ---------------------------------------- 0.0/1.9 MB ? eta -:--:--\n",
      "   --------------------- ------------------ 1.0/1.9 MB 5.6 MB/s eta 0:00:01\n",
      "   ---------------------------------------- 1.9/1.9 MB 5.6 MB/s eta 0:00:00\n",
      "Downloading tqdm-4.67.0-py3-none-any.whl (78 kB)\n",
      "Downloading annotated_types-0.7.0-py3-none-any.whl (13 kB)\n",
      "Downloading cachetools-5.5.0-py3-none-any.whl (9.5 kB)\n",
      "Downloading google_auth_httplib2-0.2.0-py2.py3-none-any.whl (9.3 kB)\n",
      "Downloading googleapis_common_protos-1.65.0-py2.py3-none-any.whl (220 kB)\n",
      "Downloading httplib2-0.22.0-py3-none-any.whl (96 kB)\n",
      "Downloading proto_plus-1.25.0-py3-none-any.whl (50 kB)\n",
      "Downloading pyasn1_modules-0.4.1-py3-none-any.whl (181 kB)\n",
      "Downloading rsa-4.9-py3-none-any.whl (34 kB)\n",
      "Downloading uritemplate-4.1.1-py2.py3-none-any.whl (10 kB)\n",
      "Downloading grpcio-1.67.1-cp39-cp39-win_amd64.whl (4.4 MB)\n",
      "   ---------------------------------------- 0.0/4.4 MB ? eta -:--:--\n",
      "   --------- ------------------------------ 1.0/4.4 MB 5.6 MB/s eta 0:00:01\n",
      "   --------------------- ------------------ 2.4/4.4 MB 5.6 MB/s eta 0:00:01\n",
      "   ------------------------------- -------- 3.4/4.4 MB 5.6 MB/s eta 0:00:01\n",
      "   ---------------------------------------- 4.4/4.4 MB 5.5 MB/s eta 0:00:00\n",
      "Downloading grpcio_status-1.67.1-py3-none-any.whl (14 kB)\n",
      "Downloading pyasn1-0.6.1-py3-none-any.whl (83 kB)\n",
      "Downloading pyparsing-3.2.0-py3-none-any.whl (106 kB)\n",
      "Installing collected packages: uritemplate, tqdm, pyparsing, pydantic-core, pyasn1, protobuf, grpcio, cachetools, annotated-types, rsa, pydantic, pyasn1-modules, proto-plus, httplib2, googleapis-common-protos, grpcio-status, google-auth, google-auth-httplib2, google-api-core, google-api-python-client, google-ai-generativelanguage, google-generativeai\n",
      "Successfully installed annotated-types-0.7.0 cachetools-5.5.0 google-ai-generativelanguage-0.6.10 google-api-core-2.23.0 google-api-python-client-2.151.0 google-auth-2.36.0 google-auth-httplib2-0.2.0 google-generativeai-0.8.3 googleapis-common-protos-1.65.0 grpcio-1.67.1 grpcio-status-1.67.1 httplib2-0.22.0 proto-plus-1.25.0 protobuf-5.28.3 pyasn1-0.6.1 pyasn1-modules-0.4.1 pydantic-2.9.2 pydantic-core-2.23.4 pyparsing-3.2.0 rsa-4.9 tqdm-4.67.0 uritemplate-4.1.1\n"
     ]
    }
   ],
   "source": [
    "!pip install google-generativeai"
   ]
  },
  {
   "cell_type": "code",
   "execution_count": 22,
   "id": "941fbb0e-31b8-489d-97be-f469cdadeccc",
   "metadata": {},
   "outputs": [
    {
     "name": "stdin",
     "output_type": "stream",
     "text": [
      "練習したい単語の数を入力してください： 2\n"
     ]
    },
    {
     "data": {
      "text/markdown": [
       "### 單詞: 本屋(ほんや)\n"
      ],
      "text/plain": [
       "<IPython.core.display.Markdown object>"
      ]
     },
     "metadata": {},
     "output_type": "display_data"
    },
    {
     "data": {
      "text/markdown": [
       "- **日本語の文**: ## 「本屋」を使った日本語の文章例\n",
       "\n",
       "**1. 日常会話**\n",
       "\n",
       "* 週末はいつも本屋に行って、新しい本を探しているんだ。最近は特に、歴史小説にはまっているよ。\n",
       "* あの新しい本屋、すごく綺麗で本もたくさん置いてあるみたいだね。今度一緒に行ってみない？\n",
       "* あの作家さんの新刊が発売されたって聞いたんだけど、どこの本屋で売ってるか分かる？\n",
       "\n",
       "**2. 小説の一節**\n",
       "\n",
       "* 雨上がりの薄暗い街角に、ひっそりと佇む小さな本屋があった。店の入り口には、風鈴が静かに音を立てていた。\n",
       "* 子供の頃は、本屋に行くのが大好きだった。活字の匂いと、新しい本を手に取るワクワク感が、今でも忘れられない。\n",
       "* 彼女は、本屋で出会った一冊の本に導かれるように、新たな道を歩み始めた。\n",
       "\n",
       "**3. エッセイの一節**\n",
       "\n",
       "* 本屋は、私にとって特別な場所だ。そこには、様々な世界への入り口が、無数に存在している。\n",
       "* 昔は、本屋で時間を潰すのが好きだった。今は、ネットで購入することが多いけれど、あの独特の雰囲気は、やっぱり捨てがたい。\n",
       "* 本屋という空間は、人々の心を繋ぐ、静かな魔法の場だと思う。\n",
       "\n",
       "**4. その他**\n",
       "\n",
       "* 近所に新しい本屋がオープンしたみたいで、早速行ってみようと思っている。\n",
       "* あの本屋、店員さんが親切で、いつもおすすめの本を紹介してくれるんだ。\n",
       "* 本屋で働くのは、自分の好きな本に囲まれて、毎日が楽しいだろうな。 \n",
       "\n",
       "これらの例を参考にして、色々な文章を作成してみてください。 \n",
       "\n"
      ],
      "text/plain": [
       "<IPython.core.display.Markdown object>"
      ]
     },
     "metadata": {},
     "output_type": "display_data"
    },
    {
     "data": {
      "text/markdown": [
       "- **台湾語の文**: 我週末想去逛逛附近那間新開的 **本屋**，聽說有好多新書。\n",
       "\n"
      ],
      "text/plain": [
       "<IPython.core.display.Markdown object>"
      ]
     },
     "metadata": {},
     "output_type": "display_data"
    },
    {
     "data": {
      "text/markdown": [
       "- **英語の文**: I went to the **honya** to find a new book on Japanese culture. \n",
       "\n"
      ],
      "text/plain": [
       "<IPython.core.display.Markdown object>"
      ]
     },
     "metadata": {},
     "output_type": "display_data"
    },
    {
     "data": {
      "text/markdown": [
       "---"
      ],
      "text/plain": [
       "<IPython.core.display.Markdown object>"
      ]
     },
     "metadata": {},
     "output_type": "display_data"
    },
    {
     "data": {
      "text/markdown": [
       "### 單詞: 料理(りょうり)\n"
      ],
      "text/plain": [
       "<IPython.core.display.Markdown object>"
      ]
     },
     "metadata": {},
     "output_type": "display_data"
    },
    {
     "data": {
      "text/markdown": [
       "- **日本語の文**: ## 料理を使った日本語の文章例\n",
       "\n",
       "**日常会話**\n",
       "\n",
       "* 今日は何の料理を作りたい気分？\n",
       "* 週末は美味しい料理を作って、家族とゆっくり過ごしたいな。\n",
       "* あのレストランの料理は本当に絶品だった！\n",
       "\n",
       "**料理の話題**\n",
       "\n",
       "* 和食、中華、イタリアン、どれが好き？\n",
       "* 私は料理を作るのが大好きで、よく新しいレシピに挑戦している。\n",
       "* 料理教室に通って、腕を磨きたいと思っている。\n",
       "\n",
       "**料理に関する感想**\n",
       "\n",
       "* この料理、味付けが絶妙で、本当に美味しい！\n",
       "* 見た目も美しく、食べるのがもったいないくらいだ。\n",
       "* この料理は、素材の味が活かされていて、とてもシンプルだけど奥深い。\n",
       "\n",
       "**料理の依頼**\n",
       "\n",
       "* 明日の夕食は、何か美味しい料理を作ってくれる？\n",
       "* お弁当を作ってくれると助かるんだけど、お願いしても良いかな？\n",
       "* 来週のパーティーで、何か料理を持って行くことにしたんだけど、何かおすすめはありますか？\n",
       "\n",
       "**その他**\n",
       "\n",
       "* 料理は、愛情をかけて作るものだと思う。\n",
       "* 料理を通して、色々な文化に触れることができる。\n",
       "* 料理は、人々を笑顔にする力を持っている。\n",
       "\n",
       "\n",
       "これらの例を参考に、状況に合わせて様々な文章を作成してみてください。\n"
      ],
      "text/plain": [
       "<IPython.core.display.Markdown object>"
      ]
     },
     "metadata": {},
     "output_type": "display_data"
    },
    {
     "data": {
      "text/markdown": [
       "- **台湾語の文**: 晚餐時間到囉，今天我來煮一鍋香噴噴的台式料理。 \n",
       "\n"
      ],
      "text/plain": [
       "<IPython.core.display.Markdown object>"
      ]
     },
     "metadata": {},
     "output_type": "display_data"
    },
    {
     "data": {
      "text/markdown": [
       "- **英語の文**: She surprised everyone with her delicious homemade **ryouri** (料理). \n",
       "\n"
      ],
      "text/plain": [
       "<IPython.core.display.Markdown object>"
      ]
     },
     "metadata": {},
     "output_type": "display_data"
    },
    {
     "data": {
      "text/markdown": [
       "---"
      ],
      "text/plain": [
       "<IPython.core.display.Markdown object>"
      ]
     },
     "metadata": {},
     "output_type": "display_data"
    }
   ],
   "source": [
    "import google.generativeai as genai\n",
    "import random  # random モジュールがインポートされていることを確認してください。\n",
    "from IPython.display import display, Markdown\n",
    "\n",
    "# APIキーを設定してください\n",
    "genai.configure(api_key='[YOUR_API_KEY]')\n",
    "\n",
    "# 指定された単語リスト、LLMで事前に生成されたもの\n",
    "word_list = [\n",
    "    \"家族(かぞく)\", \"病院(びょういん)\", \"時間(じかん)\", \"旅行(りょこう)\", \"友達(ともだち)\",\n",
    "    \"公園(こうえん)\", \"会社(かいしゃ)\", \"問題(もんだい)\", \"宿題(しゅくだい)\", \"勉強(べんきょう)\",\n",
    "    \"空港(くうこう)\", \"図書館(としょかん)\", \"教室(きょうしつ)\", \"新聞(しんぶん)\", \"写真(しゃしん)\",\n",
    "    \"先生(せんせい)\", \"手紙(てがみ)\", \"天気(てんき)\", \"料理(りょうり)\", \"食事(しょくじ)\",\n",
    "    \"音楽(おんがく)\", \"映画(えいが)\", \"本屋(ほんや)\", \"道(みち)\", \"駅(えき)\", \"自転車(じてんしゃ)\",\n",
    "    \"道具(どうぐ)\", \"猫(ねこ)\", \"犬(いぬ)\", \"海(うみ)\", \"山(やま)\", \"花(はな)\", \"学校(がっこう)\",\n",
    "    \"授業(じゅぎょう)\", \"買い物(かいもの)\", \"結婚(けっこん)\", \"運転(うんてん)\", \"車(くるま)\",\n",
    "    \"事故(じこ)\", \"電話(でんわ)\", \"部屋(へや)\", \"玄関(げんかん)\", \"台所(だいどころ)\", \"階段(かいだん)\",\n",
    "    \"生活(せいかつ)\", \"食べ物(たべもの)\", \"飲み物(のみもの)\", \"野菜(やさい)\", \"果物(くだもの)\",\n",
    "    \"魚(さかな)\", \"肉(にく)\", \"鳥(とり)\", \"仕事(しごと)\", \"会話(かいわ)\", \"質問(しつもん)\",\n",
    "    \"答え(こたえ)\", \"試験(しけん)\", \"趣味(しゅみ)\", \"時間割(じかんわり)\", \"音(おと)\", \"遊び(あそび)\",\n",
    "    \"運動(うんどう)\", \"疲れ(つかれ)\", \"楽しい(たのしい)\", \"静か(しずか)\", \"高い(たかい)\", \"安い(やすい)\",\n",
    "    \"便利(べんり)\", \"大変(たいへん)\", \"上手(じょうず)\", \"下手(へた)\", \"好き(すき)\", \"嫌い(きらい)\",\n",
    "    \"忙しい(いそがしい)\", \"寒い(さむい)\", \"暑い(あつい)\", \"近い(ちかい)\", \"遠い(とおい)\",\n",
    "    \"青い(あおい)\", \"赤い(あかい)\", \"広い(ひろい)\", \"狭い(せまい)\", \"重い(おもい)\", \"軽い(かるい)\",\n",
    "    \"新しい(あたらしい)\", \"古い(ふるい)\", \"強い(つよい)\", \"弱い(よわい)\", \"安全(あんぜん)\",\n",
    "    \"危険(きけん)\", \"健康(けんこう)\", \"練習(れんしゅう)\", \"空(そら)\", \"晴れ(はれ)\", \"曇り(くもり)\",\n",
    "    \"雨(あめ)\", \"雪(ゆき)\", \"風(かぜ)\", \"景色(けしき)\", \"自然(しぜん)\", \"木(き)\", \"森(もり)\", \"川(かわ)\"\n",
    "]\n",
    "\n",
    "# ユーザーに練習したい単語の数を尋ねる\n",
    "n = int(input(\"練習したい単語の数を入力してください：\"))\n",
    "\n",
    "# n 個の単語をランダムに選択する\n",
    "selected_words = random.sample(word_list, n)\n",
    "\n",
    "# 各単語について、日本語、台湾語、英語の文を生成する\n",
    "for word in selected_words:\n",
    "    # 日本語の文を生成\n",
    "    prompt_ja = f\"単語「{word}」を使って日本語の文章を生成してください。\"\n",
    "    response_ja = genai.GenerativeModel(\"gemini-1.5-flash\").generate_content(prompt_ja)\n",
    "    ja_sentence = response_ja.text\n",
    "\n",
    "    # 台湾語の文を生成\n",
    "    prompt_zh = f\"請使用單詞「{word}」生成一個台灣文句子。\"\n",
    "    response_zh = genai.GenerativeModel(\"gemini-1.5-flash\").generate_content(prompt_zh)\n",
    "    zh_sentence = response_zh.text\n",
    "\n",
    "    # 英語の文を生成\n",
    "    prompt_en = f\"Please generate an English sentence using the word '{word}'.\"\n",
    "    response_en = genai.GenerativeModel(\"gemini-1.5-flash\").generate_content(prompt_en)\n",
    "    en_sentence = response_en.text\n",
    "\n",
    "    # Markdown 格式輸出\n",
    "    display(Markdown(f\"### 單詞: {word}\\n\"))\n",
    "    display(Markdown(f\"- **日本語の文**: {ja_sentence}\\n\"))\n",
    "    display(Markdown(f\"- **台湾語の文**: {zh_sentence}\\n\"))\n",
    "    display(Markdown(f\"- **英語の文**: {en_sentence}\\n\"))\n",
    "    display(Markdown(\"---\"))"
   ]
  },
  {
   "cell_type": "code",
   "execution_count": null,
   "id": "9ebccf49-2ec7-4309-993e-efdda95d5ef4",
   "metadata": {},
   "outputs": [],
   "source": []
  }
 ],
 "metadata": {
  "kernelspec": {
   "display_name": "Python 3 (ipykernel)",
   "language": "python",
   "name": "python3"
  },
  "language_info": {
   "codemirror_mode": {
    "name": "ipython",
    "version": 3
   },
   "file_extension": ".py",
   "mimetype": "text/x-python",
   "name": "python",
   "nbconvert_exporter": "python",
   "pygments_lexer": "ipython3",
   "version": "3.9.6"
  }
 },
 "nbformat": 4,
 "nbformat_minor": 5
}
